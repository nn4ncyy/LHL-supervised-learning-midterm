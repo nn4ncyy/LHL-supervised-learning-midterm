{
 "cells": [
  {
   "cell_type": "markdown",
   "metadata": {},
   "source": [
    "## Model Selection\n",
    "\n",
    "This notebook should include preliminary and baseline modeling.\n",
    "- Try as many different models as possible.\n",
    "- Don't worry about hyperparameter tuning or cross validation here.\n",
    "- Ideas include:\n",
    "    - linear regression\n",
    "    - support vector machines\n",
    "    - random forest\n",
    "    - xgboost"
   ]
  },
  {
   "cell_type": "code",
   "execution_count": 25,
   "metadata": {},
   "outputs": [],
   "source": [
    "# IMPORTS\n",
    "import os\n",
    "import numpy as np\n",
    "import pandas as pd\n",
    "import matplotlib.pyplot as plt\n",
    "from sklearn.model_selection import train_test_split\n",
    "from sklearn.preprocessing import StandardScaler, LabelEncoder\n",
    "from sklearn.impute import SimpleImputer\n",
    "from sklearn.linear_model import LinearRegression\n",
    "from sklearn.svm import SVR\n",
    "from sklearn.ensemble import RandomForestRegressor, RandomForestClassifier\n",
    "from sklearn.metrics import mean_absolute_error, accuracy_score, mean_squared_error, r2_score"
   ]
  },
  {
   "cell_type": "markdown",
   "metadata": {},
   "source": [
    "**Load Processed Data**"
   ]
  },
  {
   "cell_type": "code",
   "execution_count": 26,
   "metadata": {},
   "outputs": [],
   "source": [
    "# Load processed data\n",
    "processed_folder = '../data/processed'\n",
    "file_path = os.path.join(processed_folder, 'train_scaled.csv')  # Use the already scaled dataset\n",
    "data = pd.read_csv(file_path)\n",
    "\n",
    "# Define target and features\n",
    "target_column = 'sold_price'  # since we are looking at house prices\n",
    "y = data[target_column]\n",
    "X = data.drop(columns=[target_column])\n",
    "\n",
    "# Categorical Target Encoding (Low, Medium, High)\n",
    "bins = [0, 100000, 700000, float('inf')]  # Example bins\n",
    "labels = ['Low', 'Medium', 'High']\n",
    "y_binned = pd.cut(y, bins=bins, labels=labels)\n",
    "\n",
    "# Convert categories to integers\n",
    "label_encoder = LabelEncoder()\n",
    "y_encoded = label_encoder.fit_transform(y_binned)\n"
   ]
  },
  {
   "cell_type": "markdown",
   "metadata": {},
   "source": [
    "## Setting up the train-test split ##"
   ]
  },
  {
   "cell_type": "code",
   "execution_count": 27,
   "metadata": {},
   "outputs": [],
   "source": [
    "# Train-test split (80-20)\n",
    "X_train, X_test, y_train, y_test = train_test_split(X, y_encoded, test_size=0.2, random_state=42)\n",
    "\n",
    "# Handle missing values with imputation\n",
    "imputer = SimpleImputer(strategy='mean')\n",
    "X_train_imputed = imputer.fit_transform(X_train)\n",
    "X_test_imputed = imputer.transform(X_test)\n",
    "\n",
    "# Convert the imputed data back into a DataFrame and assign column names\n",
    "X_train_imputed_df = pd.DataFrame(X_train_imputed, columns=X.columns)  # Retaining original column names\n",
    "X_test_imputed_df = pd.DataFrame(X_test_imputed, columns=X.columns)    # Retaining original column names\n",
    "\n",
    "# Save the DataFrames to CSV\n",
    "X_train_imputed_df.to_csv('X_train_imputed.csv', index=False)\n",
    "X_test_imputed_df.to_csv('X_test_imputed.csv', index=False)\n",
    "\n",
    "# Also save the target (y) as before\n",
    "pd.DataFrame(y_train_imputed).to_csv('y_train_imputed.csv', index=False)\n",
    "pd.DataFrame(y_test_imputed).to_csv('y_test_imputed.csv', index=False)\n",
    "\n",
    "\n",
    "# Ensure target variable has no missing values\n",
    "y_imputer = SimpleImputer(strategy='most_frequent')\n",
    "y_train_imputed = y_imputer.fit_transform(y_train.reshape(-1, 1)).ravel()\n",
    "y_test_imputed = y_imputer.transform(y_test.reshape(-1, 1)).ravel()\n"
   ]
  },
  {
   "cell_type": "markdown",
   "metadata": {},
   "source": [
    "## Exploring the three different models ##"
   ]
  },
  {
   "cell_type": "code",
   "execution_count": 28,
   "metadata": {},
   "outputs": [
    {
     "name": "stdout",
     "output_type": "stream",
     "text": [
      "                             MAE      RMSE       R^2  Adjusted R^2\n",
      "Linear Regression       0.403586  0.534889  0.360687      0.284022\n",
      "Support Vector Machine  0.170015  0.294368  0.806373      0.783153\n",
      "Random Forest           0.049162  0.139502  0.956514      0.951300\n"
     ]
    }
   ],
   "source": [
    "\n",
    "# Initialize models\n",
    "models = {\n",
    "    'Linear Regression': LinearRegression(),\n",
    "    'Support Vector Machine': SVR(),\n",
    "    'Random Forest': RandomForestRegressor(),\n",
    "}\n",
    "\n",
    "# Train models and evaluate performance\n",
    "results = {}\n",
    "\n",
    "for model_name, model in models.items():\n",
    "    model.fit(X_train_imputed, y_train_imputed)\n",
    "    y_pred = model.predict(X_test_imputed)\n",
    "\n",
    "    # Mean Absolute Error (MAE)\n",
    "    mae = mean_absolute_error(y_test_imputed, y_pred)\n",
    "\n",
    "    # Root Mean Squared Error (RMSE)\n",
    "    rmse = np.sqrt(mean_squared_error(y_test_imputed, y_pred))\n",
    "\n",
    "    # R-Squared (R^2)\n",
    "    r2 = r2_score(y_test_imputed, y_pred)\n",
    "\n",
    "    # Adjusted R-Squared (Adjusted R^2)\n",
    "    n = X_test_imputed.shape[0]  # Number of test samples\n",
    "    p = X_test_imputed.shape[1]  # Number of features\n",
    "    adjusted_r2 = 1 - (1 - r2) * (n - 1) / (n - p - 1)\n",
    "\n",
    "    # Store the results\n",
    "    results[model_name] = {\n",
    "        'MAE': mae,\n",
    "        'RMSE': rmse,\n",
    "        'R^2': r2,\n",
    "        'Adjusted R^2': adjusted_r2\n",
    "    }\n",
    "\n",
    "# Display results\n",
    "results_df = pd.DataFrame(results).T\n",
    "print(results_df)\n"
   ]
  },
  {
   "cell_type": "markdown",
   "metadata": {},
   "source": [
    "## Model Performance Summary ##\n",
    "**Random Forest:** Best model overall with the lowest errors (MAE: 0.0477, RMSE: 0.1392) and highest explanatory power (R²: 0.9567, Adjusted R²: 0.9515).\n",
    "\n",
    "**SVM:** Performs well but trails Random Forest (MAE: 0.1700, RMSE: 0.2944, R²: 0.8064).\n",
    "\n",
    "**Linear Regression:** Underperforms significantly with higher errors (MAE: 0.4036, RMSE: 0.5349) and low explanatory power (R²: 0.3607).\n",
    "## Conclusion: ##\n",
    "Random Forest is the most reliable and accurate model, followed by SVM, while Linear Regression struggles to capture the data's complexity."
   ]
  },
  {
   "cell_type": "markdown",
   "metadata": {},
   "source": [
    "**Looking at accuracy score**"
   ]
  },
  {
   "cell_type": "code",
   "execution_count": 29,
   "metadata": {},
   "outputs": [
    {
     "name": "stdout",
     "output_type": "stream",
     "text": [
      "Model accuracy score: 0.9944\n"
     ]
    }
   ],
   "source": [
    "# Train a RandomForestClassifier for feature importance analysis\n",
    "rfc = RandomForestClassifier(random_state=42)\n",
    "rfc.fit(X_train_imputed, y_train_imputed)\n",
    "y_pred_class = rfc.predict(X_test_imputed)\n",
    "\n",
    "# Evaluate classification accuracy\n",
    "accuracy = accuracy_score(y_test_imputed, y_pred_class)\n",
    "print(f'Model accuracy score: {accuracy:.4f}')"
   ]
  },
  {
   "cell_type": "markdown",
   "metadata": {},
   "source": [
    "This accuracy score of 0.9944 means that the Random Forest classifier was able to correctly classify approximately 99.44% of the data points. This is an extremely high accuracy rate, which is excellent for this classification task."
   ]
  },
  {
   "cell_type": "markdown",
   "metadata": {},
   "source": [
    "**Feature Importance Analysis**"
   ]
  },
  {
   "cell_type": "code",
   "execution_count": 30,
   "metadata": {},
   "outputs": [
    {
     "name": "stdout",
     "output_type": "stream",
     "text": [
      "county: 0.0816\n",
      "city: 0.0769\n",
      "sqft: 0.0762\n",
      "longitude: 0.0714\n",
      "state: 0.0646\n",
      "latitude: 0.0553\n",
      "lot_sqft: 0.0471\n",
      "baths_total: 0.0422\n",
      "baths_full: 0.0409\n",
      "age_built: 0.0393\n",
      "year_built: 0.0365\n",
      "beds: 0.0279\n",
      "garage_spaces: 0.0154\n",
      "num_stories: 0.0133\n",
      "garage_1_or_more: 0.0126\n",
      "dishwasher: 0.0124\n",
      "fireplace: 0.0110\n",
      "central_air: 0.0102\n",
      "rental_property: 0.0085\n",
      "baths_half: 0.0085\n"
     ]
    },
    {
     "data": {
      "image/png": "[encoded data removed]",
      "text/plain": [
       "<Figure size 1000x600 with 1 Axes>"
      ]
     },
     "metadata": {},
     "output_type": "display_data"
    }
   ],
   "source": [
    "importances = rfc.feature_importances_\n",
    "feature_names = X.columns\n",
    "indices = np.argsort(importances)[::-1]\n",
    "\n",
    "# Sort feature importances in descending order\n",
    "indices = np.argsort(importances)[::-1]\n",
    "\n",
    "# Display the top 20 features and their importances\n",
    "top_n = 20\n",
    "for f in range(top_n):\n",
    "    print(f\"{feature_names[indices[f]]}: {importances[indices[f]]:.4f}\")\n",
    "\n",
    "# Plot the top 20 feature importances\n",
    "plt.figure(figsize=(10, 6))\n",
    "plt.title(\"Top 20 Feature Importances\")\n",
    "plt.barh(range(top_n), importances[indices[:top_n]], align=\"center\")\n",
    "plt.yticks(range(top_n), feature_names[indices[:top_n]])\n",
    "plt.xlabel(\"Importance\")\n",
    "plt.show()\n"
   ]
  },
  {
   "cell_type": "markdown",
   "metadata": {},
   "source": [
    "## Feature Important Analysis Results ##\n",
    "\n",
    "By examining the feature importances, we can then understand which attributes (e.g., square footage, city, etc.) were most influential in predicting the property prices or classifications.\n",
    "\n",
    "In this case, the top 5 features that affect the property prices are state, longitude, sqft, city, and county. Overall, location and property size affect the property prices the most."
   ]
  },
  {
   "cell_type": "markdown",
   "metadata": {},
   "source": [
    "Consider what metrics you want to use to evaluate success.\n",
    "- If you think about mean squared error, can we actually relate to the amount of error?\n",
    "- Try root mean squared error so that error is closer to the original units (dollars)\n",
    "- What does RMSE do to outliers?\n",
    "- Is mean absolute error a good metric for this problem?\n",
    "- What about R^2? Adjusted R^2?\n",
    "- Briefly describe your reasons for picking the metrics you use"
   ]
  },
  {
   "cell_type": "code",
   "execution_count": 31,
   "metadata": {},
   "outputs": [
    {
     "name": "stdout",
     "output_type": "stream",
     "text": [
      "                             MAE      RMSE       R^2  Adjusted R^2\n",
      "Linear Regression       0.403586  0.534889  0.360687      0.284022\n",
      "Support Vector Machine  0.170015  0.294368  0.806373      0.783153\n",
      "Random Forest           0.049162  0.139502  0.956514      0.951300\n"
     ]
    }
   ],
   "source": [
    "# gather evaluation metrics and compare results\n",
    "# Display results\n",
    "results_df = pd.DataFrame(results).T\n",
    "print(results_df)\n"
   ]
  },
  {
   "cell_type": "markdown",
   "metadata": {},
   "source": [
    "Based on the results, we can interpret how each model performed in relation to different metrics:\n",
    "\n",
    "**1. Mean Absolute Error (MAE):**\n",
    "Linear Regression: 0.4036\n",
    "Support Vector Machine (SVM): 0.1700\n",
    "Random Forest: 0.0477\n",
    "\n",
    "**Interpretation:**\n",
    "\n",
    "Random Forest has the lowest MAE, meaning it's making predictions that are closest to the actual target values on average.\n",
    "SVM performs better than Linear Regression in terms of MAE, but still worse than Random Forest. Linear Regression has the highest MAE, indicating it is less accurate in terms of average prediction error.\n",
    "\n",
    "**2. Root Mean Squared Error (RMSE):**\n",
    "Linear Regression: 0.5349\n",
    "Support Vector Machine (SVM): 0.2944\n",
    "Random Forest: 0.1392\n",
    "\n",
    "**Interpretation:**\n",
    "\n",
    "RMSE gives the magnitude of error. Unlike MAE, it is sensitive to outliers.\n",
    "Random Forest again performs the best with the lowest RMSE, meaning it is closest to the actual values, with relatively few large errors.\n",
    "SVM performs better than Linear Regression, indicating its predictions are closer to the actual values, though it is still worse than Random Forest.\n",
    "\n",
    "**3. R-Squared (R²):**\n",
    "Linear Regression: 0.3607\n",
    "Support Vector Machine (SVM): 0.8064\n",
    "Random Forest: 0.9567\n",
    "\n",
    "**Interpretation:**\n",
    "\n",
    "R² indicates how well the model explains the variance in the data. A higher value indicates a better fit. Random Forest has the highest R², meaning it explains most of the variance in the target variable.\n",
    "SVM also performs well with a high R², suggesting it explains a good portion of the variance, but still not as much as Random Forest.\n",
    "Linear Regression has the lowest R², meaning it explains less of the variance in the target variable. It suggests that this model is less effective at capturing the relationships between the features and target.\n",
    "\n",
    "\n",
    "**4. Adjusted R-Squared (Adjusted R²):**\n",
    "Linear Regression: 0.2840\n",
    "Support Vector Machine (SVM): 0.7832\n",
    "Random Forest: 0.9515\n",
    "\n",
    "**Interpretation:**\n",
    "\n",
    "Random Forest maintains a high Adjusted R², meaning it performs well even when accounting for the number of features used, indicating it has good predictive power and is not overfitting.\n",
    "SVM also has a solid Adjusted R², but it is lower than Random Forest, suggesting it could be explaining most of the variance but slightly less efficiently compared to Random Forest.\n",
    "Linear Regression has the lowest Adjusted R², indicating it is likely overfitting or failing to capture the underlying structure of the data.\n",
    "\n",
    "## Summary of Model Performance: ##\n",
    "Random Forest is the best-performing model overall, with the lowest MAE, RMSE, and the highest R² and Adjusted R². It is likely the most robust model here.\n",
    "Support Vector Machine also performs well, especially in terms of RMSE and R², but it is still outperformed by Random Forest.\n",
    "Linear Regression underperforms compared to the other two models. It has the highest MAE, RMSE, and lowest R² and Adjusted R², suggesting it is not capturing the complexity of the data well.\n",
    "Conclusion:\n",
    "\n",
    "Based on these metrics, **Random Forest** would likely be the best model to use for this task. It is performing the best in terms of minimizing prediction error and explaining variance.\n",
    "SVM can be considered as a backup model if Random Forest has issues, but it still performs well.\n",
    "Linear Regression seems to be the least suitable model in this case, based on its higher errors and lower explanatory power."
   ]
  },
  {
   "cell_type": "markdown",
   "metadata": {},
   "source": [
    "## Feature Selection - STRETCH\n",
    "\n",
    "> **This step doesn't need to be part of your Minimum Viable Product (MVP), but its recommended you complete it if you have time!**\n",
    "\n",
    "Even with all the preprocessing we did in Notebook 1, you probably still have a lot of features. Are they all important for prediction?\n",
    "\n",
    "Investigate some feature selection algorithms (Lasso, RFE, Forward/Backward Selection)\n",
    "- Perform feature selection to get a reduced subset of your original features\n",
    "- Refit your models with this reduced dimensionality - how does performance change on your chosen metrics?\n",
    "- Based on this, should you include feature selection in your final pipeline? Explain\n",
    "\n",
    "Remember, feature selection often doesn't directly improve performance, but if performance remains the same, a simpler model is often preferrable. \n",
    "\n"
   ]
  },
  {
   "cell_type": "code",
   "execution_count": null,
   "metadata": {},
   "outputs": [],
   "source": [
    "# perform feature selection \n",
    "# refit models\n",
    "# gather evaluation metrics and compare to the previous step (full feature set)"
   ]
  },
  {
   "cell_type": "markdown",
   "metadata": {},
   "source": []
  }
 ],
 "metadata": {
  "kernelspec": {
   "display_name": "Python 3 (ipykernel)",
   "language": "python",
   "name": "python3"
  },
  "language_info": {
   "codemirror_mode": {
    "name": "ipython",
    "version": 3
   },
   "file_extension": ".py",
   "mimetype": "text/x-python",
   "name": "python",
   "nbconvert_exporter": "python",
   "pygments_lexer": "ipython3",
   "version": "3.12.7"
  }
 },
 "nbformat": 4,
 "nbformat_minor": 4
}
